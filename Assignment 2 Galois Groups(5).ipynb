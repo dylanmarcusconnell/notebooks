{
 "cells": [
  {
   "cell_type": "markdown",
   "metadata": {},
   "source": [
    "# Computing Galois Groups\n",
    "\n",
    "The goal of this assignment is to get some experience using SageMath to compute Galois groups of polynomials.  \n",
    "\n",
    "### Using built-in methods\n",
    "Of course, there are built-in methods to do so.  (They end up using pari.)  You should be able to guess the name of the function to call on a polynomial using tab completion."
   ]
  },
  {
   "cell_type": "code",
   "execution_count": null,
   "metadata": {},
   "outputs": [],
   "source": [
    "S.<x> = PolynomialRing(QQ)\n",
    "f = x^7 + 20*x + 16"
   ]
  },
  {
   "cell_type": "code",
   "execution_count": null,
   "metadata": {},
   "outputs": [],
   "source": [
    "G = f.galois_group()"
   ]
  },
  {
   "cell_type": "markdown",
   "metadata": {},
   "source": [
    "There is a built-in list of transitive subgroups of small degree, so the answer references this list.  Given the group, you can ask about the order, generators, and so forth.  You can use the built-in method to check your answers, but for the rest of the assignment we want to explore doing so ourselves."
   ]
  },
  {
   "cell_type": "code",
   "execution_count": null,
   "metadata": {},
   "outputs": [],
   "source": [
    "groups7 = sage.groups.perm_gps.permgroup_named.TransitiveGroups(7)\n",
    "\n",
    "print(f\"There are {len(groups7)} transitive groups of degree 7.\")\n",
    "\n",
    "for G in groups7:\n",
    "    print(\"Order\",G.order(),\"and generators\",G.gens())"
   ]
  },
  {
   "cell_type": "code",
   "execution_count": null,
   "metadata": {},
   "outputs": [],
   "source": []
  },
  {
   "cell_type": "markdown",
   "metadata": {},
   "source": [
    "## Galois Groups for Polynomials of Degree 7\n",
    "\n",
    "I have given you a bunch of polynomials of degree 7.  By reducing modulo p, find the likely cycle shapes of elements and guess which group it is.  Write up your guesses and a brief justification in the markdown cell \"Answer 1\".\n",
    "\n",
    "Hints: polynomials have a change_ring method you will like"
   ]
  },
  {
   "cell_type": "code",
   "execution_count": null,
   "metadata": {},
   "outputs": [],
   "source": [
    "S.<x> = PolynomialRing(QQ)\n",
    "f1 = x^7 + 20*x + 16\n",
    "f2 = x^7 + 7 * x^3 + 7 * x^2 + 7*x-1\n",
    "f3 = x^7+2\n",
    "f4 = x^7 - 7 * x^3 + 14 *x^2 - 7 *x + 1\n",
    "f5 = x^7 + 7 * x^4 + 14 *x + 3\n",
    "f6 = x^7 + x^6 - 12 * x^5 - 7 * x^4 + 28 * x^3 + 14*x^2 - 9 * x + 1\n",
    "f7 = x^7 - 14 * x^5 + 56*x^3 -56*x + 22\n",
    "\n",
    "fs = [f1,f2,f3,f4,f5,f6,f7]"
   ]
  },
  {
   "cell_type": "code",
   "execution_count": 198,
   "metadata": {},
   "outputs": [
    {
     "name": "stdout",
     "output_type": "stream",
     "text": [
      "f1\n",
      "{(1, 1, 1, 4), (1, 1, 1, 1, 1, 2), (1, 1, 1, 1, 3), (1, 6), (1, 1, 2, 3), (1, 1, 5), (1, 2, 4), (7,), (2, 2, 3), (2, 5), (1, 1, 1, 2, 2), (3, 4), (1, 2, 2, 2), (1, 3, 3)}\n",
      "f2\n",
      "{(7,), (1, 2, 2, 2), (1, 1, 1, 1, 1, 1, 1)}\n",
      "f3\n",
      "{(1, 1, 1, 1, 1, 1, 1), (1, 6), (1, 2, 2, 2), (7,), (1, 3, 3)}\n",
      "f4\n",
      "{(1, 1, 1, 1, 1, 1, 1), (1, 2, 4), (1, 1, 1, 2, 2), (7,), (1, 3, 3)}\n",
      "f5\n",
      "{(1, 1, 1, 1, 3), (1, 2, 4), (1, 1, 5), (7,), (1, 1, 1, 2, 2), (2, 2, 3), (1, 3, 3)}\n",
      "f6\n",
      "{(7,), (1, 1, 1, 1, 1, 1, 1)}\n",
      "f7\n",
      "{(7,), (1, 3, 3), (1, 1, 1, 1, 1, 1, 1)}\n",
      "1/7*p[1, 1, 1, 1, 1, 1, 1] + 6/7*p[7]\n",
      "1/14*p[1, 1, 1, 1, 1, 1, 1] + 1/2*p[2, 2, 2, 1] + 3/7*p[7]\n",
      "1/21*p[1, 1, 1, 1, 1, 1, 1] + 2/3*p[3, 3, 1] + 2/7*p[7]\n",
      "1/42*p[1, 1, 1, 1, 1, 1, 1] + 1/6*p[2, 2, 2, 1] + 1/3*p[3, 3, 1] + 1/3*p[6, 1] + 1/7*p[7]\n",
      "1/168*p[1, 1, 1, 1, 1, 1, 1] + 1/8*p[2, 2, 1, 1, 1] + 1/3*p[3, 3, 1] + 1/4*p[4, 2, 1] + 2/7*p[7]\n",
      "1/2520*p[1, 1, 1, 1, 1, 1, 1] + 1/24*p[2, 2, 1, 1, 1] + 1/36*p[3, 1, 1, 1, 1] + 1/12*p[3, 2, 2] + 1/9*p[3, 3, 1] + 1/4*p[4, 2, 1] + 1/5*p[5, 1, 1] + 2/7*p[7]\n",
      "1/5040*p[1, 1, 1, 1, 1, 1, 1] + 1/240*p[2, 1, 1, 1, 1, 1] + 1/48*p[2, 2, 1, 1, 1] + 1/48*p[2, 2, 2, 1] + 1/72*p[3, 1, 1, 1, 1] + 1/12*p[3, 2, 1, 1] + 1/24*p[3, 2, 2] + 1/18*p[3, 3, 1] + 1/24*p[4, 1, 1, 1] + 1/8*p[4, 2, 1] + 1/12*p[4, 3] + 1/10*p[5, 1, 1] + 1/10*p[5, 2] + 1/6*p[6, 1] + 1/7*p[7]\n"
     ]
    }
   ],
   "source": [
    "def frobshapes(f, n):\n",
    "    d = f.disc()\n",
    "    shapes_list = []\n",
    "    for p in primes(3,n):\n",
    "        if gcd(p,d) == 1:\n",
    "            R = Integers(p)\n",
    "            g = f.change_ring(R)\n",
    "            G = list(g.factor())\n",
    "            shape = []\n",
    "            for i in range(len(G)):\n",
    "                for j in range(G[i][1]):\n",
    "                    shape.append(G[i][0].degree())\n",
    "            shapes_list.append(shape)\n",
    "    shapes = set(tuple(elem) for elem in shapes_list)\n",
    "    return(shapes)\n",
    "\n",
    "i = 1\n",
    "for f in fs:\n",
    "    print(\"f%i\"%i)\n",
    "    print(frobshapes(f, 10000))\n",
    "    i = i + 1\n",
    "\n",
    "for G in groups7:\n",
    "    #print(\"Order\",G.order(),\"and generators\",G.gens())\n",
    "    print(G.cycle_index())"
   ]
  },
  {
   "cell_type": "code",
   "execution_count": null,
   "metadata": {},
   "outputs": [],
   "source": []
  },
  {
   "cell_type": "code",
   "execution_count": null,
   "metadata": {},
   "outputs": [],
   "source": []
  },
  {
   "cell_type": "markdown",
   "metadata": {},
   "source": [
    "## Answer 1 (10 points)\n",
    "\n",
    "Gal(f1) is $S_7$\n",
    "\n",
    "Gal(f2) contains the subgroup of order 14 ($D_7$)\n",
    "\n",
    "Gal(f3) contains the subgroup of order 42 ($F_7$)\n",
    "\n",
    "Gal(f4) contains the subgroup of order 168 ($GL_3(\\mathbb{F}_2)$)\n",
    "\n",
    "Gal(f5) contains the subgroup of order 2520 ($A_7$)\n",
    "\n",
    "Gal(f6) contains the subgroup of order 7 ($C_7$)\n",
    "\n",
    "Gal(f7) contains the subgroup of order 21 ($C_7 \\rtimes C_3$)"
   ]
  },
  {
   "cell_type": "code",
   "execution_count": null,
   "metadata": {
    "scrolled": true
   },
   "outputs": [],
   "source": []
  },
  {
   "cell_type": "markdown",
   "metadata": {},
   "source": [
    "## Alternating Group\n",
    "\n",
    "For those transitive subgroups which you expect to be subgroups of $A_7$, compute the discriminant and check.  To set you up for later, compute approximations to the roots and the discriminant.  Sage can also compute the discriminant to double check your work. Write up your answer to which polynomials have Galois groups inside $A_7$ below."
   ]
  },
  {
   "cell_type": "code",
   "execution_count": 199,
   "metadata": {},
   "outputs": [
    {
     "name": "stdout",
     "output_type": "stream",
     "text": [
      "-73536438796288\n",
      "-29417779503\n",
      "-52706752\n",
      "1666027489\n",
      "4202539929\n",
      "171903939769\n",
      "18078415936\n"
     ]
    }
   ],
   "source": [
    "def my_disc(f):\n",
    "    roots = f.roots(CC)\n",
    "    disc = 1\n",
    "    print(roots)\n",
    "    for i in range(len(roots)):\n",
    "        for j in range(i):\n",
    "            disc = disc*(roots[i][0] - roots[j][0])\n",
    "    return disc^2\n",
    "            \n",
    "#print(my_disc(f1))\n",
    "#print(f1.disc())\n",
    "\n",
    "for f in fs:\n",
    "    print(f.disc())"
   ]
  },
  {
   "cell_type": "markdown",
   "metadata": {},
   "source": [
    "## Answer 2 (10 points)\n",
    "\n",
    "As you can see above, the discriminants of the first three polynomials are not squares in $\\mathbb{Q}$, hence the Galois group of their splitting field does not lie in $A_7$. The rest have squares in $\\mathbb{Q}$ as their discriminant, so the Galois group of their splitting field lies in $A_7$.\n",
    "\n",
    "Hence $Gal(f_5) \\cong A_7$."
   ]
  },
  {
   "cell_type": "markdown",
   "metadata": {},
   "source": [
    "## Resolvents\n",
    "\n",
    "Use resolvents to verify some of your guesses as to the Galois groups.  \n",
    "\n",
    "- One of the Galois groups has order 168 and is isomorphic to $\\mathrm{PSL}_2(\\mathbf{F}_7)$: check this.  \n",
    "\n",
    "- One of the Galois groups has order 42 and is isomorphic to a semidirect product of $C_7$ and $C_6$.  Check this one too.\n",
    "\n",
    "Note: as this is not a course on numerical analysis, don't worry about justifying how precise the results of your computations are.  Simply assume SageMath has computed with enough precision that you can round approximations of integers to the nearest integer.\n",
    "\n",
    "P. S.  Check out https://people.maths.bris.ac.uk/~matyd/GroupNames/T15.html to see \"natural\" descriptions of the transitive subgroups"
   ]
  },
  {
   "cell_type": "code",
   "execution_count": 239,
   "metadata": {},
   "outputs": [
    {
     "data": {
      "text/plain": [
       "Transitive group number 3 of degree 7"
      ]
     },
     "execution_count": 239,
     "metadata": {},
     "output_type": "execute_result"
    }
   ],
   "source": [
    "def invariant(H):\n",
    "    n = H.degree()\n",
    "    H_list = H.list()\n",
    "    A = PolynomialRing(QQ, ['x%s'%n for n in range(1,n+1)])\n",
    "    A_gens = A.gens()\n",
    "    f = A(0)\n",
    "    for i in range(len(H_list)):\n",
    "        h = A(1)\n",
    "        for j in range(1,n+1):\n",
    "            #print(H_list[i])\n",
    "            h = h*(A_gens[H_list[i](j)-1])^(j)\n",
    "            #print(h)\n",
    "        f = f + h\n",
    "        #print(f)\n",
    "    return(f)\n",
    "\n",
    "def resolvent(G,H,f):\n",
    "    rootlist = f.roots(CC)\n",
    "    roots = []\n",
    "    for i in range(len(rootlist)):\n",
    "        roots.append(rootlist[i][0])\n",
    "    h = invariant(H)\n",
    "    Q = G.cosets(H, side='right')\n",
    "    A.<x> = PolynomialRing(CC)\n",
    "    R = A(1)\n",
    "    for i in range(len(Q)):\n",
    "        R = R*(x - h(Q[i][0](roots)))\n",
    "    return(R)\n",
    "\n",
    "def resolvent_roots(G,H,f):\n",
    "    rootslist = resolvent(G,H,f).roots()\n",
    "    for i in range(len(rootslist)):\n",
    "        print(rootslist[i][0])\n",
    "    return 0\n",
    "\n",
    "#G = groups7[7]; H = groups7[4]; f = f2\n",
    "# Hence Gal(f2) contained in some conjugate of F_7\n",
    "#G = groups7[4]; H = groups7[2]; f = f2\n",
    "# Hence Gal(f2) is contained in some conjugate of D7\n",
    "\n",
    "#G = groups7[7]; H = groups7[4]; f = f3\n",
    "# Hence Gal(f4) isomorphic to some conjugate of F_7 \n",
    "\n",
    "#G = groups7[6]; H = groups7[5]; f = f4\n",
    "# Hence Gal(f4) isomorphic to some conjugate of GL(3,2)\n",
    "\n",
    "#G = groups7[6]; H = groups7[3]; f = f7\n",
    "# Hence Gal(f4) isomorphic to some conjugate of C_7 \\rtimes C_3\n",
    "\n",
    "#G = groups7[6]; H = groups7[5]; f = f6\n",
    "# Hence Gal(f6) contained in some conjugate of GL(3,2)\n",
    "#G = groups7[5]; H = groups7[3]; f = f6\n",
    "# Hence Gal(f6) contained in some conjugate of C_7 \\rtimes C_3\n",
    "#G = groups7[3]; H = groups7[1]; f = f6\n",
    "# Hence Gal(f6) isomorphic to some conjugate of C_7\n",
    "\n",
    "\n",
    "#resolvent_roots(G,H,f)"
   ]
  },
  {
   "cell_type": "code",
   "execution_count": null,
   "metadata": {},
   "outputs": [],
   "source": []
  },
  {
   "cell_type": "markdown",
   "metadata": {},
   "source": [
    "## Answer 3 (20 points)\n",
    "\n",
    "Briefly explain why your computations verify that your guess as the Galois group is correct.  \n",
    "\n",
    "$Gal(f_1)$ has enough cycle types to be all of $S_7$.\n",
    "\n",
    "$Gal(f_5)$ contains $A_5$ by an enumeration of some of its cycle types; it is contained in $A_7$ because its discriminant is a perfect square.\n",
    "\n",
    "For the other polynomials, we have founded transitive subgroups that are contained in its Galois group and have approximated and factored resolvants to show that each Galois group is contained in the group that we had previously shown it to contain.\n",
    "\n",
    "$Gal(f_1) \\cong S_7$\n",
    "\n",
    "$Gal(f_2) \\cong D_7$\n",
    "\n",
    "$Gal(f_3) \\cong F_7$\n",
    "\n",
    "$Gal(f_4) \\cong GL(2,3)$\n",
    "\n",
    "$Gal(f_5) \\cong A_5$\n",
    "\n",
    "$Gal(f_6) \\cong C_7$\n",
    "\n",
    "$Gal(f_7) \\cong C_7 \\rtimes C_3$"
   ]
  },
  {
   "cell_type": "markdown",
   "metadata": {},
   "source": [
    "## Puzzles\n",
    "\n",
    "Answer at least one of these if you can.  (5 bonus points each)\n",
    "\n",
    "- You should be able to understand the Galois group of f6 by pure thought, at least once you know what the answer should be.  How do you do so?\n",
    "\n",
    "- You should be able to understand the Galois group of f3 by pure thought.  How do you so?\n",
    "\n",
    "- We discussed degree 5 polynomials in class, so the next natural case would be degree 6.  However, I was nice and gave you degree 7 polynomials in this assignment.  Why are degree 6 polynomials less nice?\n",
    "\n",
    "- Pick a bunch of random polynomials of degree 7 and look at the relative frequency of different Galois groups (use SageMath's built-in commands as they're more effiicent).  How do your observations fit in with what we discussed in class? It appears that (unless there's something wrong with the below code) that given a random polynomial that happens to be irreducible, its Galois group tends to be all of S_7. \n"
   ]
  },
  {
   "cell_type": "code",
   "execution_count": 288,
   "metadata": {},
   "outputs": [
    {
     "name": "stdout",
     "output_type": "stream",
     "text": [
      "[0, 0, 0, 0, 0, 0, 7947]\n"
     ]
    }
   ],
   "source": [
    "def tally(n):\n",
    "    S.<x> = PolynomialRing(QQ)\n",
    "    total = 0\n",
    "    groups = [0,0,0,0,0,0,0]\n",
    "    for i in range(n):\n",
    "        f = S.random_element(7)\n",
    "        \n",
    "        if f.is_irreducible() == True:\n",
    "            #print(repr(f.galois_group()))\n",
    "            for j in range(1,8):\n",
    "                if \"number %i\"%j in repr(f.galois_group()):\n",
    "                    groups[j-1] = groups[j-1] + 1\n",
    "    return groups\n",
    "print(tally(10000))"
   ]
  },
  {
   "cell_type": "code",
   "execution_count": 278,
   "metadata": {},
   "outputs": [
    {
     "name": "stdout",
     "output_type": "stream",
     "text": [
      "x^7 + 1/4*x^6 + x^5 - x^4 + x^3 - 704*x^2\n"
     ]
    }
   ],
   "source": [
    "\n"
   ]
  },
  {
   "cell_type": "code",
   "execution_count": 296,
   "metadata": {},
   "outputs": [
    {
     "data": {
      "text/plain": [
       "[(1,2,3,4,5,6,7), (1,3,2,6,4,5)]"
      ]
     },
     "execution_count": 296,
     "metadata": {},
     "output_type": "execute_result"
    }
   ],
   "source": [
    "f3.galois_group().gens()"
   ]
  },
  {
   "cell_type": "code",
   "execution_count": null,
   "metadata": {},
   "outputs": [],
   "source": []
  }
 ],
 "metadata": {
  "kernelspec": {
   "display_name": "SageMath 9.0",
   "language": "sage",
   "name": "sagemath"
  },
  "language_info": {
   "codemirror_mode": {
    "name": "ipython",
    "version": 3
   },
   "file_extension": ".py",
   "mimetype": "text/x-python",
   "name": "python",
   "nbconvert_exporter": "python",
   "pygments_lexer": "ipython3",
   "version": "3.7.3"
  }
 },
 "nbformat": 4,
 "nbformat_minor": 5
}
