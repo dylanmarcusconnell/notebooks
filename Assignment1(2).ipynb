{
 "cells": [
  {
   "cell_type": "markdown",
   "metadata": {},
   "source": [
    "Your first assignment is to implement the extended Euclidean algorithm.  There are 15 points total.  The goal is to just get a bit of experience using Sagemath on your own.  By default you should just do this in the integers, but if you find that too easy pick an alternate Euclidean domain (a ring of integers or a polynomial ring).  There are some code snippets which include some python/sagemath commands you may find useful at the end if you haven't seen them before.\n",
    "\n",
    "(10 points) Complete the following two functions below.\n"
   ]
  },
  {
   "cell_type": "code",
   "execution_count": null,
   "metadata": {
    "collapsed": false,
    "jupyter": {
     "outputs_hidden": false
    }
   },
   "outputs": [],
   "source": [
    "R.<t> = ZZ[I]\n",
    "a = R.random_element()\n",
    "b = R.random_element()\n",
    "print(a, b)\n",
    "#print(a.norm(), b.norm())\n",
    "\n",
    "def quotient(a, b):\n",
    "    if (a.norm() < b.norm()): return 0,0\n",
    "    c = a/b\n",
    "    #print(c)\n",
    "    x = round(c.list()[0])\n",
    "    y = round(c.list()[1])\n",
    "    #print(x,y)\n",
    "    q = x + y*t # nearby Gaussian integer to quotient\n",
    "    #print(q)\n",
    "    r = b*(c - q)# remainder -- easy to show this has norm smaller than that of a\n",
    "    #print(r)\n",
    "    #print(q*b + r)\n",
    "    return q, r\n",
    "\n",
    "#print(quotient(a,b))\n",
    "\n",
    "a = randint(1,100) + randint(1,100)*t\n",
    "b = randint(1,100) + randint(1,100)*t\n",
    "\n",
    "def basic_euclidean(a,b):\n",
    "    \"\"\"Compute the gcd of a and b\"\"\"\n",
    "        \n",
    "    \n",
    "    #your code here\n",
    "    if (b == 0): return a\n",
    "    k = quotient(a,b)[1]\n",
    "    #print(k)\n",
    "    return basic_euclidean(b, k)\n",
    "\n",
    "def extended_euclidean(a,b):\n",
    "    \"\"\"\"gcd of a and b along with x and y such that ax+by = gcd(a,b)\"\"\"\n",
    "    h0 = a; h1 = b\n",
    "    j0 = 1; j1 = 0\n",
    "    t0 = 0; t1 = 1\n",
    "\n",
    "    while h1 != 0:\n",
    "        q = quotient(h0, h1)[0]\n",
    "        h0, h1 = h1, h0 - (q*h1)\n",
    "        j0, j1 = j1, j0 - (q*j1)\n",
    "        t0, t1 = t1, t0 - (q*t1)\n",
    "\n",
    "    return h0, j0, t0\n"
   ]
  },
  {
   "cell_type": "markdown",
   "metadata": {},
   "source": [
    "(5 points)  Now that you have written your own versions, compare them against the versions Sagemath already has: gcd and xgcd.\n",
    "\n",
    "You should check on some examples that your functions and the built-in versions give the same answers.  Then try them on some large-ish numbers and see which is faster.  Some versions of the notebook will show the time spent executing each cell automatically, or you can use the command below for timing."
   ]
  },
  {
   "cell_type": "code",
   "execution_count": null,
   "metadata": {
    "collapsed": false,
    "jupyter": {
     "outputs_hidden": false
    }
   },
   "outputs": [],
   "source": [
    "%time xgcd(a,b) # no euclidean algorithm in sagemath 9.0 for Z[I]\n",
    "#note the %time command is interpretted by the jupyter notebook, not sagemath"
   ]
  },
  {
   "cell_type": "code",
   "execution_count": null,
   "metadata": {
    "collapsed": false,
    "jupyter": {
     "outputs_hidden": false
    }
   },
   "outputs": [],
   "source": [
    "a = randint(1,2^10000) + randint(1,2^10000)*t\n",
    "b = randint(1,2^10000) + randint(1,2^10000)*t\n",
    "%time extended_euclidean(a,b)"
   ]
  },
  {
   "cell_type": "code",
   "execution_count": null,
   "metadata": {},
   "outputs": [],
   "source": []
  }
 ],
 "metadata": {
  "kernelspec": {
   "display_name": "SageMath 9.0",
   "language": "sage",
   "name": "sagemath"
  },
  "language_info": {
   "codemirror_mode": {
    "name": "ipython",
    "version": 3
   },
   "file_extension": ".py",
   "mimetype": "text/x-python",
   "name": "python",
   "nbconvert_exporter": "python",
   "pygments_lexer": "ipython3",
   "version": "3.7.3"
  }
 },
 "nbformat": 4,
 "nbformat_minor": 4
}
