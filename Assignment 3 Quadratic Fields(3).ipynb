{
 "cells": [
  {
   "cell_type": "markdown",
   "metadata": {},
   "source": [
    "## Quadratic Fields\n",
    "\n",
    "There are three parts of this assignment:\n",
    "\n",
    "- Class Numbers of Imaginary Quadratic Fields\n",
    "\n",
    "- Fundamental Units of Real Quadratic Fields\n",
    "\n",
    "- Testing the Cohen-Lenstra Heuristics"
   ]
  },
  {
   "cell_type": "markdown",
   "metadata": {},
   "source": [
    "## Class Numbers (20 points)\n",
    "\n",
    "Let $D$ be a negative fundamental discriminant.  Compute the class number of the ring of integers of $\\mathbf{Q}(\\sqrt{-D})$ by counting the number of reduced binary quadratic forms of discriminant $D$.\n"
   ]
  },
  {
   "cell_type": "code",
   "execution_count": 269,
   "metadata": {},
   "outputs": [],
   "source": [
    "def reduced_forms(D):\n",
    "    \"\"\"Compute the class number of the imaginary quadratic field with fundamental discriminant D\"\"\"\n",
    "    # Check that D is in fact a fundamental discriminant\n",
    "    assert( D < 0)\n",
    "    assert (D % 4 == 0 or D % 4 == 1)\n",
    "    if (D %4 == 0):\n",
    "        assert Integer(D/4).is_squarefree()\n",
    "    else:\n",
    "        assert Integer(D).is_squarefree()\n",
    "    \n",
    "    b_0 = D % 2\n",
    "    B = floor(sqrt(abs(D)/3))\n",
    "    \n",
    "    forms = set()\n",
    "    \n",
    "    for b in range(b_0, B+2, 2):\n",
    "        q = (b^2 - D)/4\n",
    "        al = list()\n",
    "        for x in range(1, q+1):\n",
    "            if (q % x == 0):\n",
    "                al.append(x)\n",
    "        for a in al:\n",
    "            if a^2 > q or b > abs(a):\n",
    "                continue\n",
    "            f = (a,b,q/a)\n",
    "            forms.add(f)\n",
    "            if abs(b) == a or a == q/a:\n",
    "                continue\n",
    "            f = (a,-b,q/a)\n",
    "            forms.add(f)\n",
    "    return forms\n",
    "\n",
    "def class_number(D):\n",
    "    assert( D < 0)\n",
    "    assert (D % 4 == 0 or D % 4 == 1)\n",
    "    if (D %4 == 0):\n",
    "        assert Integer(D/4).is_squarefree()\n",
    "    else:\n",
    "        assert Integer(D).is_squarefree()\n",
    "    return len(reduced_forms(D))\n",
    "\n",
    "def enum_class_number(R, n):\n",
    "    tally = 0\n",
    "    disc = list()\n",
    "    for x in range(R):\n",
    "        D = -x\n",
    "        if (D % 4 == 2) or (D % 4 == 3):\n",
    "            continue\n",
    "        if D % 4 == 0: \n",
    "            d = Integer(D/4)\n",
    "            if not d.is_squarefree(): continue\n",
    "        if D % 4 == 1: \n",
    "            d = Integer(D)\n",
    "            if not d.is_squarefree(): continue\n",
    "        #print(D)\n",
    "        if class_number(D) == n:\n",
    "            tally = tally+1\n",
    "            disc.append(D)\n",
    "    return tally, disc\n",
    "                "
   ]
  },
  {
   "cell_type": "code",
   "execution_count": 272,
   "metadata": {},
   "outputs": [
    {
     "name": "stdout",
     "output_type": "stream",
     "text": [
      "(20, [-12, -15, -20, -24, -28, -35, -40, -51, -52, -88, -91, -115, -123, -148, -187, -232, -235, -267, -403, -427])\n",
      "(16, [-23, -31, -59, -83, -107, -139, -211, -283, -307, -331, -379, -499, -547, -643, -883, -907])\n"
     ]
    }
   ],
   "source": [
    "print(enum_class_number(3000, 2))\n",
    "print(enum_class_number(3000, 3))"
   ]
  },
  {
   "cell_type": "markdown",
   "metadata": {},
   "source": [
    "Use your function to find all negative fundamental discriminants where the class number is 2, or 3.  You won't be able to prove you've found all of them, but it should be pretty clear you have."
   ]
  },
  {
   "cell_type": "code",
   "execution_count": null,
   "metadata": {},
   "outputs": [],
   "source": []
  },
  {
   "cell_type": "markdown",
   "metadata": {},
   "source": [
    "## Fundamental Units (10 points)\n",
    "\n",
    "Use SageMath's built-in support for continued fractions to find fundamental units for $\\mathbf{Q}(\\sqrt{107})$ and $\\mathbf{Q}(\\sqrt{201})$.  Also use SageMath's built-in methods to find the class groups."
   ]
  },
  {
   "cell_type": "code",
   "execution_count": 249,
   "metadata": {},
   "outputs": [],
   "source": [
    "def fund_disc(d):\n",
    "    x = Integer(d).radical()\n",
    "    if x % 4 == 1:\n",
    "        if d < 0: return -x\n",
    "        if d > 0: return x\n",
    "    if x % 4 == 2 or x % 4 == 3:\n",
    "        if d < 0: return -4*x\n",
    "        if d > 0: return 4*x\n",
    "\n",
    "def fund_unit(d):\n",
    "    K.<sqrtd> = QuadraticField(d)\n",
    "    conv = list()\n",
    "    cand = list()\n",
    "    f = continued_fraction(sqrtd)\n",
    "    for i in range(len(f.period())):\n",
    "        p = f.p(i)\n",
    "        q = f.q(i)\n",
    "        c = p^2 - d*q^2\n",
    "        if fund_disc(d) % 4 == 1:\n",
    "            if c == 4 or c == -4:\n",
    "                conv.append(f.convergent(i))\n",
    "                cand.append(f.p(i) + f.q(i)*sqrtd)\n",
    "        if c == 1 or c == -1:\n",
    "            conv.append(f.convergent(i))\n",
    "            cand.append(f.p(i) + f.q(i)*sqrtd)\n",
    "    return cand[conv.index(min(conv))]\n",
    "\n",
    "def gen_disc(n):\n",
    "    # give the n-th fundamental discriminant\n",
    "    i = 0\n",
    "    t = 0\n",
    "    d_n = 0\n",
    "    if n > 0: \n",
    "        while t < abs(n):\n",
    "            i = i + 1\n",
    "            if sage.rings.number_field.number_field.is_fundamental_discriminant(i) == True: t = t + 1; d_n = i\n",
    "    if n < 0:\n",
    "        while t < abs(n):\n",
    "            i = i - 1\n",
    "            if sage.rings.number_field.number_field.is_fundamental_discriminant(i) == True: t = t + 1; d_n = i\n",
    "    return d_n\n",
    "    \n",
    "        \n"
   ]
  },
  {
   "cell_type": "code",
   "execution_count": 273,
   "metadata": {},
   "outputs": [
    {
     "name": "stdout",
     "output_type": "stream",
     "text": [
      "93*sqrtd + 962\n",
      "36332*sqrtd + 515095\n"
     ]
    }
   ],
   "source": [
    "print(fund_unit(107))\n",
    "print(fund_unit(201))"
   ]
  },
  {
   "cell_type": "markdown",
   "metadata": {},
   "source": [
    "## Cohen-Lenstra Heuristics (15 points)\n",
    "\n",
    "Pick a bound X that is reasonably large.  Collect data about the class numbers and class groups of imaginary quadratic fields with fundamental discriminant $D$ satisfying $-X \\leq D < 0$. Check the predictions of the  Cohen-Lenstra Heuristics against your data.  \n",
    "\n",
    "- The Cohen-Lenstra Heuristics predict that the probability that an odd prime $p$ divides the class number is $1 - (p)_\\infty \\approx 1/p + 1/p^2$.\n",
    "- The heuristics predict that around $97.8\\%$ of the time the odd part of the class group will be cyclic.  \n",
    "\n",
    "The basic versions of the Cohen-Lentra heuristics ignore the $2$-part of the class group.  If the prime $2$ behaved like other primes, most of the time the $2$-part of the class group would be trivial or cyclic, and it would be increasingly rare to for the $2$-part to be a product of multiple cyclic groups.\n",
    "This can be measured by the $2$-torsion in the class group, which reflects the number of cyclic factors whose order is a power of $2$.\n",
    "\n",
    "- What is the average size of the $2$-torsion in your data?  Does this match the naïve extension of the Cohen-Lenstra heuristics?  \n",
    "\n",
    "Bonus/Challenge: Can you predict the size of the $2$-torsion just based on the fundamental discriminant?\n",
    "\n",
    "\n"
   ]
  },
  {
   "cell_type": "code",
   "execution_count": 274,
   "metadata": {},
   "outputs": [],
   "source": [
    "def sample_IQ_class_groups(n, p):\n",
    "    i = 0 # iterates from 1 to n\n",
    "    total_p_torsion_size = 0 # size of 2-torsion submodule\n",
    "    total_p_torsion = 0 # number of cyclic factors whose order is a multiple of 2\n",
    "    total = 0 # total number of distinct imaginary quadratic integer rings considered\n",
    "    total_cyclic_p_torsion = 0 # total number of distinct QIR with cyclic p-torsion\n",
    "    total_trivial_p_torsion = 0\n",
    "    while True:\n",
    "        i = i - 1\n",
    "        if sage.rings.number_field.number_field.is_fundamental_discriminant(i) == True:\n",
    "            p_torsion_size = 0 # sets size of p-torsion module to 0\n",
    "            init = 0;\n",
    "            p_torsion = 0\n",
    "            cyclic_p_torsion = 0\n",
    "            trivial_p_torsion = 1\n",
    "            total = total + 1\n",
    "            K = QuadraticField(i)\n",
    "            G = K.class_group()\n",
    "            f = G.gens_orders()\n",
    "            #f = G.elementary_divisors()\n",
    "            for j in range(len(f)): # for each cyclic prime-power factor\n",
    "                if f[j] % p == 0: # check if the j-th factor has p-torsion\n",
    "                    trivial_p_torsion = 0\n",
    "                    p_torsion = p_torsion + 1 # increment the p-torsion of the group\n",
    "                    if init == 0: p_torsion_size = f[j].p_primary_part(p); init = 1; cyclic_p_torsion = 1\n",
    "                    else: p_torsion_size = p_torsion_size*f[j].p_primary_part(p); cyclic_p_torsion = 0\n",
    "            #print(f)\n",
    "            #print(trivial_p_torsion)\n",
    "            #print(cyclic_p_torsion)\n",
    "            total_p_torsion = total_p_torsion + p_torsion\n",
    "            total_p_torsion_size = total_p_torsion_size + p_torsion_size\n",
    "            total_cyclic_p_torsion = total_cyclic_p_torsion + cyclic_p_torsion\n",
    "            total_trivial_p_torsion = total_trivial_p_torsion + trivial_p_torsion\n",
    "        if i <= -n: break\n",
    "            \n",
    "    print(\"The average\",p,\"torsion of a class group (number of factors whose order is divisible by p) is\", CC(total_p_torsion/total))\n",
    "    print(\"The average size of the\",p,\"torsion subgroup of a class group is\", CC(total_p_torsion_size/total))\n",
    "    print(total_cyclic_p_torsion, \"of\", total, \"quadratic integer rings (\", CC(total_cyclic_p_torsion/total), \"percent) tested had cyclic\", p, \"torsion subgroups\")\n",
    "    print(total_trivial_p_torsion, \"of\", total, \"quadratic integer rings (\", CC(total_trivial_p_torsion/total), \"percent) tested had trivial\", p, \"torsion subgroups\")\n",
    "\n",
    "    return total_p_torsion, total_p_torsion_size, total\n",
    "\n",
    "def divisor_count(n, d):\n",
    "    divides = 0\n",
    "    total = 0\n",
    "    i = 0\n",
    "    while True:\n",
    "        i = i - 1\n",
    "        if sage.rings.number_field.number_field.is_fundamental_discriminant(i) == True: \n",
    "            N = class_number(i)\n",
    "            total = total + 1\n",
    "            if N % d == 0: divides = divides + 1\n",
    "        if i <= -n: break\n",
    "    print(divides, \"of\", total, \"quadratic integer rings (\", CC(divides/total), \"percent) tested had a class number divisible by\", d)\n",
    "    return divides, total"
   ]
  },
  {
   "cell_type": "code",
   "execution_count": null,
   "metadata": {},
   "outputs": [
    {
     "name": "stdout",
     "output_type": "stream",
     "text": [
      "164 of 911 quadratic integer rings ( 0.180021953896817 percent) tested had a class number divisible by 5\n"
     ]
    }
   ],
   "source": [
    "divisor_count(3000,5)\n",
    "sample_IQ_class_groups(3000,5)\n",
    "divisor_count(3000,2)\n",
    "sample_IQ_class_groups(3000,2)"
   ]
  },
  {
   "cell_type": "code",
   "execution_count": null,
   "metadata": {},
   "outputs": [],
   "source": [
    "# The percentage of the groups tested which had a class number divisible by 2 matches the heuristic (about 75%); but the average 2-torsion is 1.07."
   ]
  }
 ],
 "metadata": {
  "kernelspec": {
   "display_name": "SageMath 9.0",
   "language": "sage",
   "name": "sagemath"
  },
  "language_info": {
   "codemirror_mode": {
    "name": "ipython",
    "version": 3
   },
   "file_extension": ".py",
   "mimetype": "text/x-python",
   "name": "python",
   "nbconvert_exporter": "python",
   "pygments_lexer": "ipython3",
   "version": "3.7.3"
  }
 },
 "nbformat": 4,
 "nbformat_minor": 5
}
